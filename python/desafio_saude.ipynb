{
 "cells": [
  {
   "cell_type": "code",
   "execution_count": 107,
   "id": "43b43cbf-e582-456b-a3f1-8873a1ecc8ef",
   "metadata": {},
   "outputs": [],
   "source": [
    "import pandas as pd\n",
    "import seaborn as srn\n",
    "import statistics as sts"
   ]
  },
  {
   "cell_type": "code",
   "execution_count": 109,
   "id": "a0250584-e19e-424e-a473-4aa0342aa1d0",
   "metadata": {},
   "outputs": [
    {
     "data": {
      "text/html": [
       "<div>\n",
       "<style scoped>\n",
       "    .dataframe tbody tr th:only-of-type {\n",
       "        vertical-align: middle;\n",
       "    }\n",
       "\n",
       "    .dataframe tbody tr th {\n",
       "        vertical-align: top;\n",
       "    }\n",
       "\n",
       "    .dataframe thead th {\n",
       "        text-align: right;\n",
       "    }\n",
       "</style>\n",
       "<table border=\"1\" class=\"dataframe\">\n",
       "  <thead>\n",
       "    <tr style=\"text-align: right;\">\n",
       "      <th></th>\n",
       "      <th>Nome</th>\n",
       "      <th>Idade</th>\n",
       "      <th>Gênero</th>\n",
       "      <th>Tipo de Lesão</th>\n",
       "      <th>Escala de Glasgow na Admissão</th>\n",
       "      <th>Exames Laboratoriais</th>\n",
       "      <th>Tratamentos Realizados ou a Realizar</th>\n",
       "    </tr>\n",
       "  </thead>\n",
       "  <tbody>\n",
       "    <tr>\n",
       "      <th>0</th>\n",
       "      <td>Paciente 1</td>\n",
       "      <td>52</td>\n",
       "      <td>Masculino</td>\n",
       "      <td>TCE leve</td>\n",
       "      <td>4</td>\n",
       "      <td>Ultrassom</td>\n",
       "      <td>Intubação, Cirurgia</td>\n",
       "    </tr>\n",
       "    <tr>\n",
       "      <th>1</th>\n",
       "      <td>Paciente 2</td>\n",
       "      <td>41</td>\n",
       "      <td>Feminino</td>\n",
       "      <td>Fratura de fêmur</td>\n",
       "      <td>4</td>\n",
       "      <td>TC de crânio</td>\n",
       "      <td>Hidratação, Drenagem</td>\n",
       "    </tr>\n",
       "    <tr>\n",
       "      <th>2</th>\n",
       "      <td>Paciente 3</td>\n",
       "      <td>30</td>\n",
       "      <td>Feminino</td>\n",
       "      <td>Trauma abdominal</td>\n",
       "      <td>5</td>\n",
       "      <td>TC de crânio, Ultrassom, Eletrólitos</td>\n",
       "      <td>Intubação, Monitoramento</td>\n",
       "    </tr>\n",
       "    <tr>\n",
       "      <th>3</th>\n",
       "      <td>Paciente 4</td>\n",
       "      <td>86</td>\n",
       "      <td>Masculino</td>\n",
       "      <td>Trauma torácico</td>\n",
       "      <td>11</td>\n",
       "      <td>Hemograma, TC de crânio</td>\n",
       "      <td>Drenagem, Hidratação, Cirurgia reparadora</td>\n",
       "    </tr>\n",
       "    <tr>\n",
       "      <th>4</th>\n",
       "      <td>Paciente 5</td>\n",
       "      <td>43</td>\n",
       "      <td>Masculino</td>\n",
       "      <td>Fratura de fêmur</td>\n",
       "      <td>9</td>\n",
       "      <td>TC de crânio, Hemograma, Gasometria</td>\n",
       "      <td>Fisioterapia</td>\n",
       "    </tr>\n",
       "  </tbody>\n",
       "</table>\n",
       "</div>"
      ],
      "text/plain": [
       "         Nome  Idade     Gênero     Tipo de Lesão  \\\n",
       "0  Paciente 1     52  Masculino          TCE leve   \n",
       "1  Paciente 2     41   Feminino  Fratura de fêmur   \n",
       "2  Paciente 3     30   Feminino  Trauma abdominal   \n",
       "3  Paciente 4     86  Masculino   Trauma torácico   \n",
       "4  Paciente 5     43  Masculino  Fratura de fêmur   \n",
       "\n",
       "   Escala de Glasgow na Admissão                  Exames Laboratoriais  \\\n",
       "0                              4                             Ultrassom   \n",
       "1                              4                          TC de crânio   \n",
       "2                              5  TC de crânio, Ultrassom, Eletrólitos   \n",
       "3                             11               Hemograma, TC de crânio   \n",
       "4                              9   TC de crânio, Hemograma, Gasometria   \n",
       "\n",
       "        Tratamentos Realizados ou a Realizar  \n",
       "0                        Intubação, Cirurgia  \n",
       "1                       Hidratação, Drenagem  \n",
       "2                   Intubação, Monitoramento  \n",
       "3  Drenagem, Hidratação, Cirurgia reparadora  \n",
       "4                               Fisioterapia  "
      ]
     },
     "execution_count": 109,
     "metadata": {},
     "output_type": "execute_result"
    }
   ],
   "source": [
    "dataset = pd.read_excel(\"dados_pacientes.xlsx\", engine=\"openpyxl\")\n",
    "dataset.head()"
   ]
  },
  {
   "cell_type": "code",
   "execution_count": 76,
   "id": "231f37e4-1590-49f1-aa2e-d4ee38a9dfed",
   "metadata": {},
   "outputs": [
    {
     "data": {
      "text/html": [
       "<div>\n",
       "<style scoped>\n",
       "    .dataframe tbody tr th:only-of-type {\n",
       "        vertical-align: middle;\n",
       "    }\n",
       "\n",
       "    .dataframe tbody tr th {\n",
       "        vertical-align: top;\n",
       "    }\n",
       "\n",
       "    .dataframe thead th {\n",
       "        text-align: right;\n",
       "    }\n",
       "</style>\n",
       "<table border=\"1\" class=\"dataframe\">\n",
       "  <thead>\n",
       "    <tr style=\"text-align: right;\">\n",
       "      <th></th>\n",
       "      <th>Idade</th>\n",
       "      <th>Escala de Glasgow na Admissão</th>\n",
       "    </tr>\n",
       "  </thead>\n",
       "  <tbody>\n",
       "    <tr>\n",
       "      <th>count</th>\n",
       "      <td>12000.000000</td>\n",
       "      <td>12000.000000</td>\n",
       "    </tr>\n",
       "    <tr>\n",
       "      <th>mean</th>\n",
       "      <td>54.239750</td>\n",
       "      <td>8.975167</td>\n",
       "    </tr>\n",
       "    <tr>\n",
       "      <th>std</th>\n",
       "      <td>20.947442</td>\n",
       "      <td>3.725458</td>\n",
       "    </tr>\n",
       "    <tr>\n",
       "      <th>min</th>\n",
       "      <td>18.000000</td>\n",
       "      <td>3.000000</td>\n",
       "    </tr>\n",
       "    <tr>\n",
       "      <th>25%</th>\n",
       "      <td>36.000000</td>\n",
       "      <td>6.000000</td>\n",
       "    </tr>\n",
       "    <tr>\n",
       "      <th>50%</th>\n",
       "      <td>54.000000</td>\n",
       "      <td>9.000000</td>\n",
       "    </tr>\n",
       "    <tr>\n",
       "      <th>75%</th>\n",
       "      <td>72.000000</td>\n",
       "      <td>12.000000</td>\n",
       "    </tr>\n",
       "    <tr>\n",
       "      <th>max</th>\n",
       "      <td>90.000000</td>\n",
       "      <td>15.000000</td>\n",
       "    </tr>\n",
       "  </tbody>\n",
       "</table>\n",
       "</div>"
      ],
      "text/plain": [
       "              Idade  Escala de Glasgow na Admissão\n",
       "count  12000.000000                   12000.000000\n",
       "mean      54.239750                       8.975167\n",
       "std       20.947442                       3.725458\n",
       "min       18.000000                       3.000000\n",
       "25%       36.000000                       6.000000\n",
       "50%       54.000000                       9.000000\n",
       "75%       72.000000                      12.000000\n",
       "max       90.000000                      15.000000"
      ]
     },
     "execution_count": 76,
     "metadata": {},
     "output_type": "execute_result"
    }
   ],
   "source": [
    "dataset.describe()"
   ]
  },
  {
   "cell_type": "code",
   "execution_count": 111,
   "id": "4e948b69-a2a3-436e-82ff-2dd6202a2ae2",
   "metadata": {},
   "outputs": [
    {
     "data": {
      "text/plain": [
       "Nome                                    0\n",
       "Idade                                   0\n",
       "Gênero                                  0\n",
       "Tipo de Lesão                           0\n",
       "Escala de Glasgow na Admissão           0\n",
       "Exames Laboratoriais                    0\n",
       "Tratamentos Realizados ou a Realizar    0\n",
       "dtype: int64"
      ]
     },
     "execution_count": 111,
     "metadata": {},
     "output_type": "execute_result"
    }
   ],
   "source": [
    "dataset.isnull().sum()"
   ]
  },
  {
   "cell_type": "code",
   "execution_count": 113,
   "id": "72201d2c-c8e7-4249-815e-2c627d038bd8",
   "metadata": {},
   "outputs": [
    {
     "data": {
      "text/plain": [
       "0"
      ]
     },
     "execution_count": 113,
     "metadata": {},
     "output_type": "execute_result"
    }
   ],
   "source": [
    "dataset.duplicated().sum()"
   ]
  },
  {
   "cell_type": "code",
   "execution_count": 115,
   "id": "c93de19b-9b9c-4368-9f84-23e270d86c3e",
   "metadata": {},
   "outputs": [
    {
     "data": {
      "text/plain": [
       "Idade\n",
       "18    150\n",
       "19    159\n",
       "20    164\n",
       "21    173\n",
       "22    131\n",
       "     ... \n",
       "86    185\n",
       "87    165\n",
       "88    163\n",
       "89    145\n",
       "90    185\n",
       "Length: 73, dtype: int64"
      ]
     },
     "execution_count": 115,
     "metadata": {},
     "output_type": "execute_result"
    }
   ],
   "source": [
    "##verifico a moda de Aparencia\n",
    "agrupado_idade = dataset.groupby(['Idade']).size()\n",
    "agrupado_idade"
   ]
  },
  {
   "cell_type": "code",
   "execution_count": 117,
   "id": "53119f48-c7ae-44d6-879e-a4743bad2f19",
   "metadata": {},
   "outputs": [
    {
     "data": {
      "text/plain": [
       "count    12000.000000\n",
       "mean        54.239750\n",
       "std         20.947442\n",
       "min         18.000000\n",
       "25%         36.000000\n",
       "50%         54.000000\n",
       "75%         72.000000\n",
       "max         90.000000\n",
       "Name: Idade, dtype: float64"
      ]
     },
     "execution_count": 117,
     "metadata": {},
     "output_type": "execute_result"
    }
   ],
   "source": [
    "dataset['Idade'].describe()"
   ]
  },
  {
   "cell_type": "code",
   "execution_count": 119,
   "id": "309971e3-4046-42b9-9a49-adb0409788d9",
   "metadata": {},
   "outputs": [
    {
     "data": {
      "text/plain": [
       "0    59\n",
       "Name: Idade, dtype: int64"
      ]
     },
     "execution_count": 119,
     "metadata": {},
     "output_type": "execute_result"
    }
   ],
   "source": [
    "#Idade mais frequente de pacientes (59)\n",
    "dataset[\"Idade\"].mode()"
   ]
  },
  {
   "cell_type": "code",
   "execution_count": 121,
   "id": "da08b2b2-b1fa-45a3-ace2-eadc112605db",
   "metadata": {},
   "outputs": [
    {
     "data": {
      "text/plain": [
       "Tipo de Lesão\n",
       "AVC isquêmico         1155\n",
       "Fratura de fêmur      1178\n",
       "Fratura exposta       1117\n",
       "Politrauma            1233\n",
       "Queimaduras graves    1215\n",
       "TCE grave             1303\n",
       "TCE leve              1219\n",
       "TCE moderado          1171\n",
       "Trauma abdominal      1231\n",
       "Trauma torácico       1178\n",
       "dtype: int64"
      ]
     },
     "execution_count": 121,
     "metadata": {},
     "output_type": "execute_result"
    }
   ],
   "source": [
    "agrupado_lesao = dataset.groupby(['Tipo de Lesão']).size()\n",
    "agrupado_lesao"
   ]
  },
  {
   "cell_type": "code",
   "execution_count": 123,
   "id": "05e0f34e-dd56-4abb-add8-2fa02ce05cdb",
   "metadata": {},
   "outputs": [
    {
     "data": {
      "text/plain": [
       "Exames Laboratoriais\n",
       "Eletrólitos                             558\n",
       "Eletrólitos, Gasometria                  93\n",
       "Eletrólitos, Gasometria, Hemograma       19\n",
       "Eletrólitos, Gasometria, Raio-X          17\n",
       "Eletrólitos, Gasometria, Ressonância     25\n",
       "                                       ... \n",
       "Ultrassom, TC de crânio, Eletrólitos     13\n",
       "Ultrassom, TC de crânio, Gasometria      14\n",
       "Ultrassom, TC de crânio, Hemograma       21\n",
       "Ultrassom, TC de crânio, Raio-X          24\n",
       "Ultrassom, TC de crânio, Ressonância     18\n",
       "Length: 259, dtype: int64"
      ]
     },
     "execution_count": 123,
     "metadata": {},
     "output_type": "execute_result"
    }
   ],
   "source": [
    "agrupado_exames = dataset.groupby(['Exames Laboratoriais']).size()\n",
    "agrupado_exames"
   ]
  },
  {
   "cell_type": "code",
   "execution_count": 125,
   "id": "1a325f0c-7ffe-46f8-bb0f-68aff3cf662e",
   "metadata": {},
   "outputs": [
    {
     "data": {
      "text/plain": [
       "0    Intubação\n",
       "Name: Tratamentos Realizados ou a Realizar, dtype: object"
      ]
     },
     "execution_count": 125,
     "metadata": {},
     "output_type": "execute_result"
    }
   ],
   "source": [
    "#Tratamento mais frequente\n",
    "dataset[\"Tratamentos Realizados ou a Realizar\"].mode()"
   ]
  },
  {
   "cell_type": "code",
   "execution_count": 127,
   "id": "a3c4b14d-1805-4d8a-8aca-22e95c135536",
   "metadata": {},
   "outputs": [],
   "source": [
    "def desfecho(row):\n",
    "    if row[\"Escala de Glasgow na Admissão\"] >= 13:\n",
    "        return \"Alta hospitalar sem sequelas\"\n",
    "    elif 9 <= row[\"Escala de Glasgow na Admissão\"] <= 12:\n",
    "        return \"Alta hospitalar com sequelas\"\n",
    "    else:\n",
    "        return \"Óbito\"\n",
    "\n",
    "dataset[\"Desfecho\"] = dataset.apply(desfecho, axis=1) "
   ]
  },
  {
   "cell_type": "code",
   "execution_count": 133,
   "id": "3b2a9572-b3b1-4528-ac4d-9b1c7854bf4c",
   "metadata": {},
   "outputs": [
    {
     "data": {
      "text/plain": [
       "Desfecho\n",
       "Óbito                           5549\n",
       "Alta hospitalar com sequelas    3731\n",
       "Alta hospitalar sem sequelas    2720\n",
       "Name: count, dtype: int64"
      ]
     },
     "execution_count": 133,
     "metadata": {},
     "output_type": "execute_result"
    }
   ],
   "source": [
    "dataset[\"Desfecho\"].value_counts()"
   ]
  },
  {
   "cell_type": "code",
   "execution_count": 135,
   "id": "3947d0d9-b3e8-4068-b656-6a3f6c457018",
   "metadata": {},
   "outputs": [
    {
     "data": {
      "text/plain": [
       "count     12000\n",
       "unique        3\n",
       "top       Óbito\n",
       "freq       5549\n",
       "Name: Desfecho, dtype: object"
      ]
     },
     "execution_count": 135,
     "metadata": {},
     "output_type": "execute_result"
    }
   ],
   "source": [
    "dataset['Desfecho'].describe()"
   ]
  },
  {
   "cell_type": "code",
   "execution_count": 141,
   "id": "66b6be99-14f3-4c09-b35d-ff87f37b2418",
   "metadata": {},
   "outputs": [
    {
     "data": {
      "text/plain": [
       "True"
      ]
     },
     "execution_count": 141,
     "metadata": {},
     "output_type": "execute_result"
    }
   ],
   "source": [
    "import os\n",
    "os.path.exists(\"dados_pacientes_tratados.xlsx\")"
   ]
  },
  {
   "cell_type": "code",
   "execution_count": 143,
   "id": "e558d1fa-9145-4bdc-b1d5-132d7f23f9fb",
   "metadata": {},
   "outputs": [
    {
     "data": {
      "text/html": [
       "<div>\n",
       "<style scoped>\n",
       "    .dataframe tbody tr th:only-of-type {\n",
       "        vertical-align: middle;\n",
       "    }\n",
       "\n",
       "    .dataframe tbody tr th {\n",
       "        vertical-align: top;\n",
       "    }\n",
       "\n",
       "    .dataframe thead th {\n",
       "        text-align: right;\n",
       "    }\n",
       "</style>\n",
       "<table border=\"1\" class=\"dataframe\">\n",
       "  <thead>\n",
       "    <tr style=\"text-align: right;\">\n",
       "      <th></th>\n",
       "      <th>Nome</th>\n",
       "      <th>Idade</th>\n",
       "      <th>Gênero</th>\n",
       "      <th>Tipo de Lesão</th>\n",
       "      <th>Escala de Glasgow na Admissão</th>\n",
       "      <th>Exames Laboratoriais</th>\n",
       "      <th>Tratamentos Realizados ou a Realizar</th>\n",
       "      <th>Desfecho</th>\n",
       "    </tr>\n",
       "  </thead>\n",
       "  <tbody>\n",
       "    <tr>\n",
       "      <th>0</th>\n",
       "      <td>Paciente 1</td>\n",
       "      <td>52</td>\n",
       "      <td>Masculino</td>\n",
       "      <td>TCE leve</td>\n",
       "      <td>4</td>\n",
       "      <td>Ultrassom</td>\n",
       "      <td>Intubação, Cirurgia</td>\n",
       "      <td>Óbito</td>\n",
       "    </tr>\n",
       "    <tr>\n",
       "      <th>1</th>\n",
       "      <td>Paciente 2</td>\n",
       "      <td>41</td>\n",
       "      <td>Feminino</td>\n",
       "      <td>Fratura de fêmur</td>\n",
       "      <td>4</td>\n",
       "      <td>TC de crânio</td>\n",
       "      <td>Hidratação, Drenagem</td>\n",
       "      <td>Óbito</td>\n",
       "    </tr>\n",
       "    <tr>\n",
       "      <th>2</th>\n",
       "      <td>Paciente 3</td>\n",
       "      <td>30</td>\n",
       "      <td>Feminino</td>\n",
       "      <td>Trauma abdominal</td>\n",
       "      <td>5</td>\n",
       "      <td>TC de crânio, Ultrassom, Eletrólitos</td>\n",
       "      <td>Intubação, Monitoramento</td>\n",
       "      <td>Óbito</td>\n",
       "    </tr>\n",
       "    <tr>\n",
       "      <th>3</th>\n",
       "      <td>Paciente 4</td>\n",
       "      <td>86</td>\n",
       "      <td>Masculino</td>\n",
       "      <td>Trauma torácico</td>\n",
       "      <td>11</td>\n",
       "      <td>Hemograma, TC de crânio</td>\n",
       "      <td>Drenagem, Hidratação, Cirurgia reparadora</td>\n",
       "      <td>Alta hospitalar com sequelas</td>\n",
       "    </tr>\n",
       "    <tr>\n",
       "      <th>4</th>\n",
       "      <td>Paciente 5</td>\n",
       "      <td>43</td>\n",
       "      <td>Masculino</td>\n",
       "      <td>Fratura de fêmur</td>\n",
       "      <td>9</td>\n",
       "      <td>TC de crânio, Hemograma, Gasometria</td>\n",
       "      <td>Fisioterapia</td>\n",
       "      <td>Alta hospitalar com sequelas</td>\n",
       "    </tr>\n",
       "  </tbody>\n",
       "</table>\n",
       "</div>"
      ],
      "text/plain": [
       "         Nome  Idade     Gênero     Tipo de Lesão  \\\n",
       "0  Paciente 1     52  Masculino          TCE leve   \n",
       "1  Paciente 2     41   Feminino  Fratura de fêmur   \n",
       "2  Paciente 3     30   Feminino  Trauma abdominal   \n",
       "3  Paciente 4     86  Masculino   Trauma torácico   \n",
       "4  Paciente 5     43  Masculino  Fratura de fêmur   \n",
       "\n",
       "   Escala de Glasgow na Admissão                  Exames Laboratoriais  \\\n",
       "0                              4                             Ultrassom   \n",
       "1                              4                          TC de crânio   \n",
       "2                              5  TC de crânio, Ultrassom, Eletrólitos   \n",
       "3                             11               Hemograma, TC de crânio   \n",
       "4                              9   TC de crânio, Hemograma, Gasometria   \n",
       "\n",
       "        Tratamentos Realizados ou a Realizar                      Desfecho  \n",
       "0                        Intubação, Cirurgia                         Óbito  \n",
       "1                       Hidratação, Drenagem                         Óbito  \n",
       "2                   Intubação, Monitoramento                         Óbito  \n",
       "3  Drenagem, Hidratação, Cirurgia reparadora  Alta hospitalar com sequelas  \n",
       "4                               Fisioterapia  Alta hospitalar com sequelas  "
      ]
     },
     "execution_count": 143,
     "metadata": {},
     "output_type": "execute_result"
    }
   ],
   "source": [
    "dataset = pd.read_excel(\"dados_pacientes_tratados.xlsx\", engine=\"openpyxl\")\n",
    "dataset.head()"
   ]
  },
  {
   "cell_type": "code",
   "execution_count": 102,
   "id": "a3181011-c68f-4b9a-a9a2-d69d2c4fdc97",
   "metadata": {},
   "outputs": [
    {
     "data": {
      "text/plain": [
       "'C:\\\\Users\\\\victo\\\\Documents\\\\Desafio_BancoVI'"
      ]
     },
     "execution_count": 102,
     "metadata": {},
     "output_type": "execute_result"
    }
   ],
   "source": [
    "import os\n",
    "os.getcwd()"
   ]
  },
  {
   "cell_type": "code",
   "execution_count": null,
   "id": "fbe63b32-281d-48d9-b852-f357f8a7a66e",
   "metadata": {},
   "outputs": [],
   "source": []
  }
 ],
 "metadata": {
  "kernelspec": {
   "display_name": "Python 3 (ipykernel)",
   "language": "python",
   "name": "python3"
  },
  "language_info": {
   "codemirror_mode": {
    "name": "ipython",
    "version": 3
   },
   "file_extension": ".py",
   "mimetype": "text/x-python",
   "name": "python",
   "nbconvert_exporter": "python",
   "pygments_lexer": "ipython3",
   "version": "3.8.18"
  }
 },
 "nbformat": 4,
 "nbformat_minor": 5
}
